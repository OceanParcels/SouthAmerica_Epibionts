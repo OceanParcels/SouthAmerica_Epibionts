{
 "cells": [
  {
   "cell_type": "code",
   "execution_count": 1,
   "id": "96b78ba1",
   "metadata": {
    "code_folding": [
     0
    ]
   },
   "outputs": [],
   "source": [
    "# load packages\n",
    "\n",
    "import random\n",
    "from glob import glob\n",
    "import matplotlib.pyplot as plt\n",
    "from matplotlib import colors, cm, transforms\n",
    "import numpy as np\n",
    "import xarray as xr\n",
    "from netCDF4 import Dataset\n",
    "import math as math\n",
    "import matplotlib.animation as animation\n",
    "from collections import Counter \n",
    "import pandas as pd\n",
    "import datetime\n",
    "import pickle\n",
    "import xarray as xr\n",
    "from scipy.stats import pearsonr\n",
    "\n",
    "import cartopy.crs as ccrs\n",
    "import cartopy\n",
    "import cartopy.feature as cfeature\n",
    "from cartopy.io import shapereader\n",
    "from mpl_toolkits.axes_grid1 import make_axes_locatable\n",
    "from cartopy.mpl.gridliner import LONGITUDE_FORMATTER, LATITUDE_FORMATTER\n",
    "%matplotlib inline"
   ]
  },
  {
   "cell_type": "code",
   "execution_count": 2,
   "id": "eac0eb06",
   "metadata": {
    "code_folding": [
     0
    ]
   },
   "outputs": [],
   "source": [
    "# Load all parameters\n",
    "\n",
    "# load trajectories\n",
    "\n",
    "traj_path = '../analysis/input/particles_epibionts_obs_7d.zarr'\n",
    "Traj = xr.open_zarr(traj_path)\n",
    "plon = np.array(Traj['lon'])\n",
    "plat = np.array(Traj['lat'])\n",
    "pocean = np.array(Traj['openocean_flag'])\n",
    "dist_traveled = np.array(Traj['distance_traveled'])\n",
    "dist2release = np.array(Traj['distance_to_release'])\n",
    "dist2coast = np.array(Traj['distance_to_coast'])\n",
    "ptime = np.array(Traj['time'])\n",
    "\n",
    "outputfreq = 0.5 #days\n",
    "\n",
    "# load landmask, lon, lat, and startlon startlat\n",
    "\n",
    "file = open('../particle_simulation/input/inputfiles_epibionts', 'rb')\n",
    "inputfiles = pickle.load(file)\n",
    "file.close()\n",
    "landmask = inputfiles['landmask']\n",
    "lon = inputfiles['lon']\n",
    "lat = inputfiles['lat']\n",
    "coastlon = inputfiles['lonSA'][:]\n",
    "coastlat = inputfiles['latSA'][:]\n",
    "file = open('../particle_simulation/input/inputfiles_epibionts_7d', 'rb')\n",
    "inputfiles = pickle.load(file)\n",
    "file.close()\n",
    "startlon = inputfiles['releaselon'][:]\n",
    "startlat = inputfiles['releaselat'][:]   \n",
    "pID = inputfiles['releaseID'][:]\n",
    "\n",
    "\n",
    "# make coastline mask (specified at T-point)\n",
    "coastmask = np.zeros_like(landmask)\n",
    "for i in range(coastmask.shape[1]):\n",
    "    for j in range(coastmask.shape[0]):\n",
    "        if landmask[j,i]==1:\n",
    "            coastmask[j-1:j+2,i-1:i+2]=1\n",
    "coastmask = coastmask + landmask\n",
    "\n",
    "# load observation estimates\n",
    "\n",
    "fieldobs = '../particle_simulation/input/Data_May_23th_2022.xls'\n",
    "obs = pd.read_excel(fieldobs) \n",
    "lat_obs = np.array(obs.Latitude)\n",
    "lon_obs = np.array(obs.Longitude)\n",
    "est_obs = np.array(obs.Estimate)\n",
    "err_obs = np.array(obs.Label)"
   ]
  },
  {
   "cell_type": "markdown",
   "id": "409f16c1",
   "metadata": {
    "heading_collapsed": true
   },
   "source": [
    "## Observations: estimate 'from ocean' by looking at biotic interaction\n",
    "\n",
    "Schoolchildren collected plastic at 44 beaches and identified whether there was any biological interaction or not. From this, and from a subset investigated at the lab, an estimate is made of what percentage of the litter items found on the beach could have arrived there with the currents. \n",
    "\n",
    "![image](https://miro.medium.com/max/1400/1*MHffFVBqW9U4PDO9JvVDwg.jpeg)\n",
    "\n",
    "To compare the observations to a model simulation we assume that the longer an object is in the open ocean, the more likely it will show interaction. If using only ocean surface currents (no tidal currents, no Stokes drift and no windage), the virtual particles in the numerical simulation can not move onto land. We therefore make a distinction between the coastal zone (one ocean grid cell next to land) and the open ocean. In the coastal zone the particle might have originated from land and entered the ocean due to coastal processes that are not included or resolved in the hydographic fields used for the analysis.\n",
    "\n",
    "I have also looked at the distance to the measurement location and the mean (Lagrangian) speed of the particles, but these diagnostics did not give better results."
   ]
  },
  {
   "cell_type": "code",
   "execution_count": null,
   "id": "c5949472",
   "metadata": {
    "hidden": true
   },
   "outputs": [],
   "source": [
    "obs"
   ]
  },
  {
   "cell_type": "markdown",
   "id": "fa33aa12",
   "metadata": {
    "hidden": true
   },
   "source": [
    "> Q: Which values to take for the 'excluded' observations? Now I put them to 0.0"
   ]
  },
  {
   "cell_type": "markdown",
   "id": "8d948ef2",
   "metadata": {
    "heading_collapsed": true
   },
   "source": [
    "## Simulation: backward tracking\n",
    "\n",
    "We track virtual particles backward in time for 100 days from each observation location. These particles are released daily in the year leading up to the measurement leading to 803.000 particles in total, or 18.250 particles per measurement location.\n",
    "\n",
    "The virtual particles are transported by the ocean surface currents from the [MOi dataset](https://www.mercator-ocean.eu/en/solutions-expertise/accessing-digital-data/product-details/?offer=4217979b-2662-329a-907c-602fdc69c3a3&system=d35404e4-40d3-59d6-3608-581c9495d86a). No artifical diffusion is added to the particle movement, but to account for dispersion the particle release location is offset by a small (<1/25 degree) random number, so no two particles were released at exactly the same time and place. For this simulation, the role of wind, waves and tides on the movement of the plastic items is not taken into account, nor the buoyancy changes or fragmentation processes. With respect to the time scale of interest, we argue that these effects are of less importance, but we leave open the possibility to add an additional simulation where we do include the impact of wind on particle transport."
   ]
  },
  {
   "cell_type": "code",
   "execution_count": null,
   "id": "6fddc7db",
   "metadata": {
    "code_folding": [
     0
    ],
    "hidden": true
   },
   "outputs": [],
   "source": [
    "# MAIN FIGURE - plot showing example trajectories towards each measurement location and correlation\n",
    "\n",
    "fig = plt.figure(figsize=(13,13))\n",
    "gs = fig.add_gridspec(1, 2, width_ratios=[1, 1], height_ratios = [1])\n",
    "\n",
    "\n",
    "# add figure map\n",
    "ax1 = fig.add_subplot(gs[:,0])\n",
    "\n",
    "landmask[landmask==0]=3\n",
    "landmask[landmask==1]=18\n",
    "ax1.pcolor(lon[600,:],lat[:,300],landmask,shading='nearest',\n",
    "           cmap='tab20c',vmin=0, vmax=19, alpha=0.9)\n",
    "\n",
    "particles2plot = np.random.randint(plon.shape[0], size=1000)\n",
    "\n",
    "for p in particles2plot:\n",
    "    ax1.plot(plon[p,:],plat[p,:],c='k',linewidth=0.1)\n",
    "\n",
    "for measurement in range(len(obs)):\n",
    "    if obs.Label[measurement] == 'confident':\n",
    "        ax1.scatter(lon_obs[measurement],lat_obs[measurement],s=(est_obs[measurement]+1)*30,color='#38761d',alpha=0.5,zorder=2000)\n",
    "    if obs.Label[measurement] == 'low':\n",
    "        ax1.scatter(lon_obs[measurement],lat_obs[measurement],s=(est_obs[measurement]+1)*30,color='#b45f06',alpha=0.5,zorder=2000)\n",
    "    if obs.Label[measurement] == 'excluded':\n",
    "        ax1.scatter(lon_obs[measurement],lat_obs[measurement],s=20,color='#990000',alpha=0.5,zorder=2000)\n",
    "\n",
    "        \n",
    "ax1.scatter(0,0,s=30,color='#bcbcbc',alpha=0.5,label=' 1%')        \n",
    "ax1.scatter(0,0,s=150,color='#bcbcbc',alpha=0.5,label=' 5% observed items from ocean estimate')  \n",
    "ax1.scatter(0,0,s=300,color='#bcbcbc',alpha=0.5,label='10%')  \n",
    "\n",
    "ax1.plot([0,1],[0,1],c='k',linewidth=1,label='100-day backwards example trajectories')\n",
    "\n",
    "ax1.legend(prop={\"size\":11}, ncol=1, loc='upper right')\n",
    "ax1.set_xlim([-120,-69])\n",
    "ax1.set_ylim([-50,34])\n",
    "ax1.set_xlabel('Longitude ($^{\\circ}$E)')\n",
    "ax1.set_ylabel('Latitude ($^{\\circ}$N)')\n",
    "\n",
    "## Add second panel with resulting correlation\n",
    "\n",
    "ax2 = fig.add_subplot(gs[:,1])\n",
    "ax3 = ax2.twiny()\n",
    "omax=33 #xlimit for observations\n",
    "mmax=101 #xlimit for model\n",
    "\n",
    "\n",
    "for oloc in range(best_fit.shape[0]):\n",
    "    ax3.scatter(best_fit[oloc,np.argmax(corr)],lat_obs[oloc],s=50,color='k',marker=5,alpha=0.5,zorder=200)\n",
    "    \n",
    "    odata = obs.Estimate[oloc]\n",
    "    mdata = best_fit[oloc,np.argmax(corr)]\n",
    "    \n",
    "    \n",
    "    if obs.Label[oloc] == 'confident':\n",
    "        ax2.scatter(obs.Estimate[oloc],lat_obs[oloc],s=30,color='g',alpha=1,zorder=300)\n",
    "        if mmax/omax*odata > mdata:\n",
    "            ax3.plot([mdata,mmax/omax*odata],[lat_obs[oloc],lat_obs[oloc]],color='k',linewidth=0.3)\n",
    "        else:\n",
    "            ax3.plot([mmax/omax*odata,mdata],[lat_obs[oloc],lat_obs[oloc]],color='k',linewidth=0.3)\n",
    "    if obs.Label[oloc] == 'low':\n",
    "        ax2.scatter(obs.Estimate[oloc],lat_obs[oloc],s=30,color='orange',alpha=1,zorder=300)\n",
    "        if mmax/omax*odata > mdata:\n",
    "            ax3.plot([mdata,mmax/omax*odata],[lat_obs[oloc],lat_obs[oloc]],color='orange',linewidth=0.5)\n",
    "        else:\n",
    "            ax3.plot([mmax/omax*odata,mdata],[lat_obs[oloc],lat_obs[oloc]],color='orange',linewidth=0.5)\n",
    "    if obs.Label[oloc] == 'excluded':\n",
    "        ax2.scatter(obs.Estimate[oloc],lat_obs[oloc],s=30,color='red',alpha=1,zorder=300)\n",
    "        if mmax/omax*odata > mdata:\n",
    "            ax3.plot([mdata,mmax/omax*odata],[lat_obs[oloc],lat_obs[oloc]],color='red',linewidth=0.5)\n",
    "        else:\n",
    "            ax3.plot([mmax/omax*odata,mdata],[lat_obs[oloc],lat_obs[oloc]],color='red',linewidth=0.5)    \n",
    "\n",
    "#get legends\n",
    "ax2.scatter(10,10,s=30,color='g',label='high confidence observation')\n",
    "ax2.scatter(10,10,s=30,color='orange',label='low confidence observation')\n",
    "ax2.scatter(10,10,s=30,color='red',label='excluded observation')\n",
    "ax2.scatter(10,10,s=50,color='k',marker=5,alpha=0.5,label='model estimate')\n",
    "\n",
    "#axis settings\n",
    "ax2.set_ylim([-50,34])\n",
    "ax2.set_xlim([0,omax])\n",
    "ax3.set_xlim([0,mmax])\n",
    "\n",
    "ax2.set_yticklabels([])\n",
    "ax2.set_xlabel('Observed items from ocean estimate (%)')     \n",
    "ax3.set_xlabel('Modeled particles in open ocean longer than 70 days (%)')\n",
    "ax2.legend(loc='lower right',prop={\"size\":12})\n",
    "\n",
    "#add text box with correlation and p-value\n",
    "c_conf, p_conf = pearsonr(best_fit[obs.Label=='confident',np.argmax(corr)],obs.Estimate[obs.Label=='confident'])\n",
    "textstr = '\\n'.join((\n",
    "    r'$R=%.2f$' % (c_conf, ),\n",
    "    r'$p=%.3f$' % (p_conf, )))\n",
    "ax2.text(0.82, 0.98, textstr, transform=ax2.transAxes, fontsize=12,\n",
    "        verticalalignment='top', horizontalalignment='left')\n",
    "\n",
    "gs.update(wspace=0.05)\n",
    "\n",
    "# add figure labels\n",
    "ax1.text(0.01, 0.01, 'a)', transform=ax1.transAxes, fontsize=15,\n",
    "        verticalalignment='bottom', horizontalalignment='left')\n",
    "ax2.text(0.01, 0.01, 'b)', transform=ax2.transAxes, fontsize=15,\n",
    "        verticalalignment='bottom', horizontalalignment='left')\n",
    "\n",
    "# Save figure\n",
    "plt.tight_layout()\n",
    "plt.savefig('figures/map_correlation_30d.png',dpi=300,facecolor='#ffffff')\n"
   ]
  },
  {
   "cell_type": "code",
   "execution_count": null,
   "id": "8b9c927d",
   "metadata": {
    "code_folding": [
     0
    ],
    "hidden": true
   },
   "outputs": [],
   "source": [
    "# ZOOM IN example trajectories for all 44 observation locations\n",
    "\n",
    "\n",
    "coastmask = np.zeros_like(landmask)\n",
    "for i in range(coastmask.shape[1]):\n",
    "    for j in range(coastmask.shape[0]):\n",
    "        if landmask[j,i]==1:\n",
    "            coastmask[j-1:j+2,i-1:i+2]=1\n",
    "coastmask = coastmask + landmask\n",
    "\n",
    "#fix colors\n",
    "coastmask[coastmask==0]=3\n",
    "coastmask[coastmask==1]=6\n",
    "coastmask[coastmask==2]=18\n",
    "\n",
    "for oloc in range(obs.shape[0]):\n",
    "    print(oloc)\n",
    "    fig,ax2 = plt.subplots(1, figsize=(6,6))\n",
    "\n",
    "\n",
    "    ax2.pcolor(lon[600,:],lat[:,300],coastmask,shading='nearest',\n",
    "              cmap='tab20c',vmin=0, vmax=19,\n",
    "              alpha=0.9)\n",
    "\n",
    "    if obs.Label[oloc] == 'confident':\n",
    "        ax2.scatter(obs.Longitude[oloc],obs.Latitude[oloc],s=90,c='#38761d',alpha=0.8,zorder=2000)\n",
    "    if obs.Label[oloc] == 'low':\n",
    "        ax2.scatter(obs.Longitude[oloc],obs.Latitude[oloc],s=90,c='#b45f06',alpha=0.8,zorder=2000)\n",
    "    if obs.Label[oloc] == 'excluded':\n",
    "        ax2.scatter(obs.Longitude[oloc],obs.Latitude[oloc],s=90,c='#990000',alpha=0.8,zorder=2000)\n",
    "\n",
    "    ax2.set_xlim([obs.Longitude[oloc]-4,obs.Longitude[oloc]+1])\n",
    "    ax2.set_ylim([obs.Latitude[oloc]-2.5,obs.Latitude[oloc]+2.5])\n",
    "\n",
    "    selection_particles = np.where(pID==oloc)[0][:]\n",
    "    particles2plot = np.random.randint(selection_particles.shape[0], size=100)\n",
    "    partplot = selection_particles[particles2plot]\n",
    "\n",
    "    for p in partplot:\n",
    "        ax2.plot(plon[p,:],plat[p,:],c='k',linewidth=0.1)\n",
    "\n",
    "    cmap = plt.cm.get_cmap('tab20c')\n",
    "    colors = np.linspace(0,1,num=20,endpoint=True)\n",
    "    ax2.scatter(10,10,color=cmap(colors[3]),label='ocean')\n",
    "    ax2.scatter(10,10,color=cmap(colors[6]),label='coast')\n",
    "    ax2.scatter(10,10,color=cmap(colors[18]),label='land')\n",
    "    ax2.legend()\n",
    "\n",
    "    ax2.set_title('Zoom in on ' + obs.Beach[oloc] + ', ' + obs.Country[oloc])\n",
    "    ax2.set_xlabel('Longitude ($^{\\circ}$E)')\n",
    "    ax2.set_ylabel('Latitude ($^{\\circ}$N)')\n",
    "\n",
    "    # Save figure\n",
    "    plt.tight_layout()\n",
    "    plt.savefig('figures/zoomin_' + str(obs.Beach[oloc]).replace(\" \", \"_\") + '_' + str(obs.Country[oloc]).replace(\" \", \"_\") + '.png',\n",
    "                dpi=300,facecolor='#ffffff')\n",
    "\n"
   ]
  },
  {
   "cell_type": "markdown",
   "id": "9e18bd9b",
   "metadata": {},
   "source": [
    "## Translation to observational estimate\n",
    "\n",
    "To translate the observed estimates to modeled estimates we look at how long a piece of plastic has been afloat before it beaches. As mentioned before, in our model simulation it is not possible for particles to wash ashore. We therefore define 'afloat' as being outside a coastal grid cell (1/12$^{\\circ}$ x 1/12$^{\\circ}$ ocean cells, ~10km, next to land, colored orange in Fig 1b). For every particle the time afloat is calculated. We can then investigate which percentage of particles arriving at each measurement location has been afloat longer than $T$ days before arrival to see whether there is a correlation with the measured estimates.   \n",
    "\n",
    "> coastal cell: 1/12 x 1/12 degree - width of ~10 km from coastline"
   ]
  },
  {
   "cell_type": "code",
   "execution_count": 3,
   "id": "eb51e6a1",
   "metadata": {
    "code_folding": [
     0
    ]
   },
   "outputs": [],
   "source": [
    "# Calculate days afloat\n",
    "\n",
    "dt = 1 # how big are the bins (in days) of 'time afloat'\n",
    "\n",
    "# time afloat for each particle\n",
    "time_period = 100 #how many days are we looking back in time\n",
    "time_in_ocean = np.nansum(pocean[:,0:int(time_period/outputfreq)],axis=1)*outputfreq #outcome is in days\n",
    "\n",
    "# bin results for measurement site x days afloat\n",
    "ptotal = int(len(time_in_ocean)/len(lat_obs)) # total number of particles per release location\n",
    "days_afloat = np.arange(0,time_period+dt,dt) # lower limit of bins\n",
    "distribution_afloat = np.zeros((len(lat_obs),len(days_afloat)-1))\n",
    "\n",
    "for i in range(len(lat_obs)):\n",
    "    for b in range(len(days_afloat)-1):\n",
    "        check = (time_in_ocean[pID==i]>=days_afloat[b]) & (time_in_ocean[pID==i]<days_afloat[b+1])\n",
    "        distribution_afloat[i,b] = np.sum(check)/ptotal*100"
   ]
  },
  {
   "cell_type": "code",
   "execution_count": 4,
   "id": "4c700827",
   "metadata": {
    "code_folding": [
     0
    ]
   },
   "outputs": [
    {
     "data": {
      "image/png": "[encoded data removed]",
      "text/plain": [
       "<Figure size 504x648 with 2 Axes>"
      ]
     },
     "metadata": {
      "needs_background": "light"
     },
     "output_type": "display_data"
    }
   ],
   "source": [
    "# Figure distribution of how long particles are afloat before arriving at the measurement location\n",
    "\n",
    "labels = np.arange(0,len(lat_obs))\n",
    "width = 0.95\n",
    "increments = np.arange(0,len(days_afloat)-2)\n",
    "increments = np.flipud(increments)\n",
    "cmap = plt.cm.get_cmap('ocean_r')\n",
    "colors = np.linspace(0,1,num=distribution_afloat.shape[1],endpoint=True)\n",
    "\n",
    "fig = plt.figure(figsize=(7,9))\n",
    "gs = fig.add_gridspec(2, 1, width_ratios=[1], height_ratios = [1,0.05])\n",
    "\n",
    "# plot model results\n",
    "ax1 = fig.add_subplot(gs[0,0])\n",
    "\n",
    "ax1.barh(labels+1,distribution_afloat[np.argsort(lat_obs),-1],width,color=cmap(colors[-1]),align='center')\n",
    "bottom_layer = distribution_afloat[np.argsort(lat_obs),-1]\n",
    "for dt in increments:\n",
    "    ax1.barh(labels+1,distribution_afloat[np.argsort(lat_obs),dt],width,left=bottom_layer,color=cmap(colors[dt]),align='center')\n",
    "    bottom_layer = bottom_layer + distribution_afloat[np.argsort(lat_obs),dt]\n",
    "\n",
    "ax1.set_ylabel('Numbered measurement locations ordered by latitude (South to North)')\n",
    "ax1.set_xlabel('% of particles')\n",
    "ax1.set_title('Distribution of time afloat per measurement location')\n",
    "ax1.set_xlim([0,100])\n",
    "ax1.set_ylim([0,45])\n",
    "\n",
    "# add colorbar\n",
    "im = ax1.scatter(-10*(colors+10),-10*(colors+10),s=20,c=colors,cmap='ocean_r',vmin=0,vmax=100)\n",
    "ax2 = fig.add_subplot(gs[1,0])\n",
    "cbr = plt.colorbar(im, cax=ax2, orientation='horizontal')\n",
    "cbr.set_label('Minimum time afloat (days)', fontsize=12)\n",
    "cbr.ax.tick_params(labelsize=12)\n",
    "\n",
    "# Save figure\n",
    "plt.tight_layout()\n",
    "plt.savefig('figures/Sensitivity_daysafloat_7d.png',dpi=300,facecolor='#ffffff')\n"
   ]
  },
  {
   "cell_type": "code",
   "execution_count": null,
   "id": "1657e964",
   "metadata": {
    "code_folding": [
     0
    ]
   },
   "outputs": [],
   "source": [
    "# Figure observations & the distribution of how long particles are afloat before arriving at the measurement location\n",
    "\n",
    "labels = np.arange(0,len(lat_obs))\n",
    "width = 0.95\n",
    "increments = np.arange(0,len(days_afloat)-2)\n",
    "increments = np.flipud(increments)\n",
    "cmap = plt.cm.get_cmap('ocean_r')\n",
    "colors = np.linspace(0,1,num=distribution_afloat.shape[1],endpoint=True)\n",
    "\n",
    "fig = plt.figure(figsize=(12,9))\n",
    "gs = fig.add_gridspec(2, 2, width_ratios=[1, 1], height_ratios = [1,0.05])\n",
    "\n",
    "# plot model results\n",
    "ax1 = fig.add_subplot(gs[0,1])\n",
    "\n",
    "ax1.barh(labels+1,distribution_afloat[np.argsort(lat_obs),-1],width,color=cmap(colors[-1]),align='center')\n",
    "bottom_layer = distribution_afloat[np.argsort(lat_obs),-1]\n",
    "for dt in increments:\n",
    "    ax1.barh(labels+1,distribution_afloat[np.argsort(lat_obs),dt],width,left=bottom_layer,color=cmap(colors[dt]),align='center')\n",
    "    bottom_layer = bottom_layer + distribution_afloat[np.argsort(lat_obs),dt]\n",
    "\n",
    "ax1.set_ylabel('Numbered measurement locations ordered by latitude (South to North)')\n",
    "ax1.set_xlabel('% of particles')\n",
    "ax1.set_title('Fig. 2b Distribution of time afloat per measurement location')\n",
    "ax1.set_xlim([0,100])\n",
    "ax1.set_ylim([0,45])\n",
    "\n",
    "# add colorbar\n",
    "im = ax1.scatter(-10*(colors+10),-10*(colors+10),s=20,c=colors,cmap='ocean_r',vmin=0,vmax=100)\n",
    "ax2 = fig.add_subplot(gs[1,1])\n",
    "cbr = plt.colorbar(im, cax=ax2, orientation='horizontal')\n",
    "cbr.set_label('Minimum time afloat (days)', fontsize=12)\n",
    "cbr.ax.tick_params(labelsize=12)\n",
    "\n",
    "# add colorbar for observations\n",
    "color_obs=np.zeros((len(labels),4))\n",
    "cmap2 = plt.cm.get_cmap('tab10')\n",
    "teller=0\n",
    "for i in obs.Label:\n",
    "    if i=='confident':\n",
    "        color_obs[teller,:]=cmap2(0)\n",
    "    if i=='low':\n",
    "        color_obs[teller,:]=cmap2(0.1)\n",
    "    if i=='excluded':\n",
    "        color_obs[teller,:]=cmap2(0.3)\n",
    "    teller += 1\n",
    "\n",
    "# add observations\n",
    "ax3 = fig.add_subplot(gs[0,0])\n",
    "ax3.set_yticklabels([]) \n",
    "ax3.set_yticks([]) \n",
    "ax4 = ax3.twinx()\n",
    "ax4.barh(labels+1,-(obs.Estimate[np.argsort(lat_obs)]+0.1),width,align='center',color=color_obs[np.argsort(lat_obs),:])\n",
    "ax4.set_ylim([0,45])\n",
    "ax4.set_xlim([-30,0.5])\n",
    "xlabels = ['30','25','20','15','10','5','0']\n",
    "ax4.set_xticks(np.arange(-35,0,5))\n",
    "ax4.set_xticklabels(xlabels)\n",
    "ax3.set_xlabel('% of items with interactions')\n",
    "ax4.set_title('Fig. 2a Estimate from observations')"
   ]
  },
  {
   "cell_type": "markdown",
   "id": "7eb95967",
   "metadata": {},
   "source": [
    "From Figure 2 we can see the distribution of how long particles have been afloat before they arrive at the measurement location. For example, at measurement location 5 (Rapa Nui) almost all particles have been afloat for more than 90 days, whereas at measurement location 10 (Perú, Puerto Chancay) many particles stayed in coastal cells. We can now tune the 'minimum time afloat' parameter to find the best fit with the observed distribution (Fig 2a). For this we only included all 'confident' measurements and excluded the measurement on Rapa Nui, as this outlier dominates the correlation we can find."
   ]
  },
  {
   "cell_type": "code",
   "execution_count": 5,
   "id": "3a6180f2",
   "metadata": {
    "code_folding": [
     0
    ]
   },
   "outputs": [
    {
     "name": "stdout",
     "output_type": "stream",
     "text": [
      "70\n"
     ]
    },
    {
     "data": {
      "image/png": "[encoded data removed]",
      "text/plain": [
       "<Figure size 720x360 with 1 Axes>"
      ]
     },
     "metadata": {
      "needs_background": "light"
     },
     "output_type": "display_data"
    }
   ],
   "source": [
    "# Figure showing Pearson correlation coefficient as a function of minimum time afloat\n",
    "\n",
    "obs.iloc[43,6] = 'excluded' #exclude Rapa Nui\n",
    "\n",
    "best_fit = np.flip(distribution_afloat, 1)\n",
    "best_fit = np.cumsum(best_fit,axis=1)\n",
    "\n",
    "corr = []\n",
    "for b in np.arange(1,len(days_afloat)-2):\n",
    "    corr.append(pearsonr(best_fit[obs.Label=='confident',b],obs.Estimate[obs.Label=='confident'])[0])\n",
    "\n",
    "obs.iloc[43,6] = 'confident' #include Rapa Nui again    \n",
    "    \n",
    "fig,axs = plt.subplots(1, figsize=(10,5))\n",
    "\n",
    "# plot correlation as a function of minimum time afloat\n",
    "axs.plot(days_afloat[1:-2],np.flipud(corr))\n",
    "axs.set_xlabel('Minimum time afloat (days)')\n",
    "axs.set_ylabel('Pearson correlation coefficient')\n",
    "axs.plot([np.argmax(np.flipud(corr)),np.argmax(np.flipud(corr))],[-0.05,0.4],'--b',label='best fit')\n",
    "axs.plot([0,100],[0,0],c='k',linewidth=0.2)\n",
    "axs.set_title('Correlation between model and observations as a function of the minimum time afloat parameter')\n",
    "axs.legend()\n",
    "axs.set_ylim([-0.05,0.23])\n",
    "axs.set_xlim([0,100])\n",
    "\n",
    "print(np.argmax(np.flipud(corr)))\n",
    "\n",
    "# Save figure\n",
    "plt.tight_layout()\n",
    "plt.savefig('figures/tuning_7d.png',dpi=300,facecolor='#ffffff')"
   ]
  },
  {
   "cell_type": "code",
   "execution_count": null,
   "id": "9721d7fd",
   "metadata": {
    "code_folding": []
   },
   "outputs": [],
   "source": [
    "# Correlation plot\n",
    "\n",
    "obs.iloc[43,6] = 'excluded' #exclude Rapa Nui\n",
    "\n",
    "best_fit = np.flip(distribution_afloat, 1)\n",
    "best_fit = np.cumsum(best_fit,axis=1)\n",
    "\n",
    "corr = []\n",
    "for b in np.arange(1,len(days_afloat)-2):\n",
    "    corr.append(pearsonr(best_fit[obs.Label=='confident',b],obs.Estimate[obs.Label=='confident'])[0])\n",
    "\n",
    "obs.iloc[43,6] = 'confident' #include Rapa Nui again    \n",
    "    \n",
    "fig,ax = plt.subplots(2,1, figsize=(12,10))\n",
    "\n",
    "# plot correlation as a function of minimum time afloat\n",
    "ax[0].plot(days_afloat[1:-2],np.flipud(corr))\n",
    "ax[0].set_xlabel('Minimum time afloat (days)')\n",
    "ax[0].set_ylabel('Pearson correlation coefficient')\n",
    "ax[0].plot([np.argmax(np.flipud(corr)),np.argmax(np.flipud(corr))],[-0.05,0.4],'--b',label='best fit')\n",
    "ax[0].plot([0,100],[0,0],c='k',linewidth=0.2)\n",
    "ax[0].set_title('Fig 3a Correlation between model and observations as a function of the minimum time afloat parameter')\n",
    "ax[0].legend()\n",
    "ax[0].set_ylim([-0.05,0.23])\n",
    "ax[0].set_xlim([0,100])\n",
    "\n",
    "# plot observations vs. model estimate   \n",
    "for i,err in enumerate(err_obs):\n",
    "    if err == 'confident':\n",
    "        ax[1].scatter(lat_obs[i],est_obs[i],c='blue',zorder=20,alpha=0.5)\n",
    "    elif err == 'low':\n",
    "        ax[1].scatter(lat_obs[i],est_obs[i],c='orange',zorder=20,alpha=0.5)\n",
    "    elif err == 'excluded':\n",
    "        ax[1].scatter(lat_obs[i],est_obs[i],c='red',zorder=20,alpha=0.5)\n",
    "ax2 = ax[1].twinx()\n",
    "ax2.scatter(lat_obs,best_fit[:,np.argmax(corr)],c='k',alpha=0.3)\n",
    "ax2.plot(lat_obs[np.argsort(lat_obs)],best_fit[np.argsort(lat_obs),np.argmax(corr)],c='k',linewidth=0.5)\n",
    "ax[1].set_xlabel('Latitude')\n",
    "ax[1].set_ylabel('Observed estimate (%)')\n",
    "ax2.set_ylabel('Fraction of particles afloat longer than ' + str(np.argmax(np.flipud(corr))) + ' days (%)')\n",
    "ax[1].set_ylim([-1,32])\n",
    "ax2.set_ylim([-1,102])\n",
    "\n",
    "# get legend\n",
    "ax[1].scatter(-10,-10,c='blue',alpha=0.5,label='high confidence measurement')\n",
    "ax[1].scatter(-10,-10,c='orange',alpha=0.5,label='low confidence measurement')\n",
    "ax[1].scatter(-10,-10,c='red',alpha=0.5,label='excluded measurement')\n",
    "ax[1].scatter(-10,-10,c='k',alpha=0.5,label='modeled estimate')\n",
    "ax[1].legend(loc='center left')\n",
    "\n",
    "ax[1].set_title('Fig 3b Comparison observations to measurements')\n"
   ]
  },
  {
   "cell_type": "code",
   "execution_count": null,
   "id": "d05543e9",
   "metadata": {
    "code_folding": []
   },
   "outputs": [],
   "source": [
    "# Calculate correlation and significance of full data set\n",
    "\n",
    "c_conf, p_conf = pearsonr(best_fit[obs.Label=='confident',np.argmax(corr)],obs.Estimate[obs.Label=='confident'])\n",
    "c_low, p_low = pearsonr(best_fit[obs.Label!='excluded',np.argmax(corr)],obs.Estimate[obs.Label!='excluded'])\n",
    "\n",
    "print('The pearson correlation coefficient including only the confident observations (ánd Rapa Nui) is ', round(c_conf,2), ',')\n",
    "print('with a p_value of ', round(p_conf,3))\n",
    "print('The pearson correlation coefficient including the high and low confident observations is ', round(c_low,2), ',')\n",
    "print('with a p_value of ', round(p_low,3))\n"
   ]
  },
  {
   "cell_type": "markdown",
   "id": "b5374ade",
   "metadata": {},
   "source": [
    "Note that our aim is not to match the absolute percentage from the observations, but to match the spatial distribution. Therefore, the x-axis do not have the same limits (rephrase).\n",
    "\n",
    "The maximum Pearson correlation is found for a 'afloat' value of 72 days. This means that we find the best correlation between the spatial distribution of the fraction of particles afloat for longer than 72 days as  predicted by the model and the spatial distribution of plastic items with interactions found on the beaches. The correlation, when including Rapa Nui, is relatively low (0.38), but if we look at the large scale, we do seem to capture some of the spatial variability with this approach (Fig. 3b).\n",
    "\n",
    "> I'm not sure how to assess the significance of this correlation. As we only have 30 data points, the p-value is not so insightful.\n",
    "\n",
    "We did try many different ways of defining this 'minimum time afloat' parameter (and as mentioned also used e.g. mean speed of the particles, distance to the measurement location and combinations of these), but the result above provided the most optimum correlation and, from an interpretation point of view, makes most sense."
   ]
  },
  {
   "cell_type": "markdown",
   "id": "3fef9f40",
   "metadata": {},
   "source": [
    "## Extended analysis\n",
    "\n",
    "It is possible to extend this analysis further by for example\n",
    "- Investigating how the distribution changes if we include the effect of wind on the floating debris/particles. This does add another tuning parameter (the windage coefficient), which is more difficult to tune as you have to rerun the particle simulation for every value.\n",
    "- Extrapolate the calculation of the '% of particles afloat > T days' for all locations along the American coastline.\n",
    "- Repeat analysis for monthly values (instead of whole year before measurement took place). \n"
   ]
  }
 ],
 "metadata": {
  "kernelspec": {
   "display_name": "Python 3 (ipykernel)",
   "language": "python",
   "name": "python3"
  },
  "language_info": {
   "codemirror_mode": {
    "name": "ipython",
    "version": 3
   },
   "file_extension": ".py",
   "mimetype": "text/x-python",
   "name": "python",
   "nbconvert_exporter": "python",
   "pygments_lexer": "ipython3",
   "version": "3.8.13"
  }
 },
 "nbformat": 4,
 "nbformat_minor": 5
}
